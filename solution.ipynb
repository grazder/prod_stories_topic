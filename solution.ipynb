{
  "nbformat": 4,
  "nbformat_minor": 0,
  "metadata": {
    "colab": {
      "name": "Прод.ipynb",
      "provenance": [],
      "collapsed_sections": []
    },
    "kernelspec": {
      "name": "python3",
      "display_name": "Python 3"
    },
    "language_info": {
      "name": "python"
    }
  },
  "cells": [
    {
      "cell_type": "code",
      "metadata": {
        "colab": {
          "base_uri": "https://localhost:8080/"
        },
        "id": "dDdipyvwueJT",
        "outputId": "e6107e04-e9ad-4c42-a36e-0fae1cb6e811"
      },
      "source": [
        "!git clone https://github.com/grazder/prod_stories_topic.git\n",
        "%cd prod_stories_topic/"
      ],
      "execution_count": 76,
      "outputs": [
        {
          "output_type": "stream",
          "name": "stdout",
          "text": [
            "Cloning into 'prod_stories_topic'...\n",
            "remote: Enumerating objects: 14, done.\u001b[K\n",
            "remote: Counting objects: 100% (14/14), done.\u001b[K\n",
            "remote: Compressing objects: 100% (11/11), done.\u001b[K\n",
            "remote: Total 14 (delta 1), reused 11 (delta 0), pack-reused 0\u001b[K\n",
            "Unpacking objects: 100% (14/14), done.\n",
            "/content/prod_stories_topic/prod_stories_topic\n"
          ]
        }
      ]
    },
    {
      "cell_type": "code",
      "metadata": {
        "id": "uNY0ATlg4goP"
      },
      "source": [
        "import pandas as pd\n",
        "import numpy as np\n",
        "import warnings\n",
        "warnings.filterwarnings(\"ignore\")"
      ],
      "execution_count": 77,
      "outputs": []
    },
    {
      "cell_type": "code",
      "metadata": {
        "colab": {
          "base_uri": "https://localhost:8080/"
        },
        "id": "80LHFw7LvUex",
        "outputId": "ded4a5de-438e-41c6-b097-6726bd444099"
      },
      "source": [
        "data = pd.read_json('data/pycharm_issues.json', lines=True)\n",
        "keep_versions = [\"2020.2\", \"2020.3\", \"2021.1\", \"2021.2\", \"2021.3\"]\n",
        "\n",
        "versions = []\n",
        "for version in data['Affected versions'].values:\n",
        "    versions.extend(version)\n",
        "\n",
        "print('Доступные версии: ', np.unique(versions))\n",
        "\n",
        "data = data[data['Affected versions'].apply(lambda x: any([y in keep_versions for y in x]))]\n",
        "\n",
        "print(data.shape)"
      ],
      "execution_count": 78,
      "outputs": [
        {
          "output_type": "stream",
          "name": "stdout",
          "text": [
            "Доступные версии:  ['2016.1' '2016.2' '2016.3' '2017.1' '2017.2' '2017.3' '2018.1' '2018.2'\n",
            " '2018.3' '2019.1' '2019.2' '2019.3' '2020.1' '2020.2' '2020.3' '2021.1'\n",
            " '2021.2' '2021.3']\n",
            "(2296, 5)\n"
          ]
        }
      ]
    },
    {
      "cell_type": "markdown",
      "metadata": {
        "id": "-A-riWli2DrH"
      },
      "source": [
        "# TF-IDF"
      ]
    },
    {
      "cell_type": "code",
      "metadata": {
        "colab": {
          "base_uri": "https://localhost:8080/",
          "height": 310
        },
        "id": "sl6thffd2mty",
        "outputId": "4dd64cc4-105d-4985-e97f-7a6fb7c69037"
      },
      "source": [
        "data.head()"
      ],
      "execution_count": 79,
      "outputs": [
        {
          "output_type": "execute_result",
          "data": {
            "text/html": [
              "<div>\n",
              "<style scoped>\n",
              "    .dataframe tbody tr th:only-of-type {\n",
              "        vertical-align: middle;\n",
              "    }\n",
              "\n",
              "    .dataframe tbody tr th {\n",
              "        vertical-align: top;\n",
              "    }\n",
              "\n",
              "    .dataframe thead th {\n",
              "        text-align: right;\n",
              "    }\n",
              "</style>\n",
              "<table border=\"1\" class=\"dataframe\">\n",
              "  <thead>\n",
              "    <tr style=\"text-align: right;\">\n",
              "      <th></th>\n",
              "      <th>idReadable</th>\n",
              "      <th>created</th>\n",
              "      <th>summary</th>\n",
              "      <th>description</th>\n",
              "      <th>Affected versions</th>\n",
              "    </tr>\n",
              "  </thead>\n",
              "  <tbody>\n",
              "    <tr>\n",
              "      <th>45</th>\n",
              "      <td>PY-22211</td>\n",
              "      <td>1484097590051</td>\n",
              "      <td>Running subprocesses with Popen inside unittes...</td>\n",
              "      <td>I have the following unittest:\\n\\n```\\nclass M...</td>\n",
              "      <td>[2020.3]</td>\n",
              "    </tr>\n",
              "    <tr>\n",
              "      <th>67</th>\n",
              "      <td>PY-22248</td>\n",
              "      <td>1484322653638</td>\n",
              "      <td>Full project optimize imports alters library f...</td>\n",
              "      <td>Reported by: @matheusbrat on Twitter: https://...</td>\n",
              "      <td>[2020.2]</td>\n",
              "    </tr>\n",
              "    <tr>\n",
              "      <th>178</th>\n",
              "      <td>PY-22369</td>\n",
              "      <td>1485334537463</td>\n",
              "      <td>DataFrame auto-update doesn't work with action...</td>\n",
              "      <td>Consider this example:\\n\\n```python\\nimport pa...</td>\n",
              "      <td>[2021.1]</td>\n",
              "    </tr>\n",
              "    <tr>\n",
              "      <th>266</th>\n",
              "      <td>PY-22469</td>\n",
              "      <td>1485863013851</td>\n",
              "      <td>PowerShell prompt doesn't show virtualenv</td>\n",
              "      <td>Although the virtualenv seems activated, the p...</td>\n",
              "      <td>[2021.1]</td>\n",
              "    </tr>\n",
              "    <tr>\n",
              "      <th>730</th>\n",
              "      <td>PY-23007</td>\n",
              "      <td>1488923938785</td>\n",
              "      <td>Project requirements are not detected from set...</td>\n",
              "      <td>Since setuptools 30.3.0 it's possible to speci...</td>\n",
              "      <td>[2020.3]</td>\n",
              "    </tr>\n",
              "  </tbody>\n",
              "</table>\n",
              "</div>"
            ],
            "text/plain": [
              "    idReadable  ...  Affected versions\n",
              "45    PY-22211  ...           [2020.3]\n",
              "67    PY-22248  ...           [2020.2]\n",
              "178   PY-22369  ...           [2021.1]\n",
              "266   PY-22469  ...           [2021.1]\n",
              "730   PY-23007  ...           [2020.3]\n",
              "\n",
              "[5 rows x 5 columns]"
            ]
          },
          "metadata": {},
          "execution_count": 79
        }
      ]
    },
    {
      "cell_type": "markdown",
      "metadata": {
        "id": "wzpSKMA12FOX"
      },
      "source": [
        "Для начала построим простой TF-IDF и посмотрим на самые важные слова"
      ]
    },
    {
      "cell_type": "code",
      "metadata": {
        "colab": {
          "base_uri": "https://localhost:8080/"
        },
        "id": "AuSub2Mt2E_b",
        "outputId": "617a72ca-2ba0-4360-a3d9-1f776a80e242"
      },
      "source": [
        "from sklearn.feature_extraction.text import TfidfVectorizer, CountVectorizer\n",
        "\n",
        "def calculate_top_10_tfidf(df, vectorizer):\n",
        "    X = vectorizer.fit_transform(df['summary']).toarray()\n",
        "\n",
        "    feature_names = vectorizer.get_feature_names()\n",
        "    global_top10_idx = X.max(axis=0).argsort()[-10:]\n",
        "    top10 = list(np.asarray(feature_names)[global_top10_idx])\n",
        "\n",
        "    print('Самые популярные слова по TFIDF:\\n', top10)\n",
        "\n",
        "calculate_top_10_tfidf(data, TfidfVectorizer())"
      ],
      "execution_count": 80,
      "outputs": [
        {
          "output_type": "stream",
          "name": "stdout",
          "text": [
            "Самые популярные слова по TFIDF:\n",
            " ['dir', 'inferrence', 'help', 'clone', 'property', 'lag', 'pdm', 'builtins', 'str', 'console']\n"
          ]
        }
      ]
    },
    {
      "cell_type": "markdown",
      "metadata": {
        "id": "xt1cVFeb40zm"
      },
      "source": [
        "Теперь посмотрим по версиям"
      ]
    },
    {
      "cell_type": "code",
      "metadata": {
        "colab": {
          "base_uri": "https://localhost:8080/"
        },
        "id": "Mf65apYW2CsR",
        "outputId": "239cb01a-8244-463b-c114-5e0716bed145"
      },
      "source": [
        "for version in keep_versions:\n",
        "    version_df = data[data['Affected versions'].apply(lambda x: version in x)]\n",
        "    print('Version', version)\n",
        "\n",
        "    calculate_top_10_tfidf(version_df, TfidfVectorizer())"
      ],
      "execution_count": 81,
      "outputs": [
        {
          "output_type": "stream",
          "name": "stdout",
          "text": [
            "Version 2020.2\n",
            "Самые популярные слова по TFIDF:\n",
            " ['get_user_model', 'hello', 'hi', 'futurewarning', 'search', 'flask', 'profiler', 'str', 'property', 'console']\n",
            "Version 2020.3\n",
            "Самые популярные слова по TFIDF:\n",
            " ['implementation', 'get_user_model', 'autocompletion', 'super', 'stale', 'matplotlib', 'loop', 'tox', 'global', 'collections']\n",
            "Version 2021.1\n",
            "Самые популярные слова по TFIDF:\n",
            " ['mistake', 'suggestions', 'list', 'coroutine', 'character', 'libraries', 'detecting', 'collections', 'pdm', 'help']\n",
            "Version 2021.2\n",
            "Самые популярные слова по TFIDF:\n",
            " ['responsive', 'coroutine', 'pid', 'keras', 'bug', 'inferrence', 'dir', 'str', 'lag', 'builtins']\n",
            "Version 2021.3\n",
            "Самые популярные слова по TFIDF:\n",
            " ['profiling', 'ipywidgets', 'selector', 'warnings', 'classes', 'color', 'icons', 'string', 'clone', 'str']\n"
          ]
        }
      ]
    },
    {
      "cell_type": "markdown",
      "metadata": {
        "id": "USxSIPFK5cL8"
      },
      "source": [
        "Посмотрим для сравнения при помощи CountVectorizer"
      ]
    },
    {
      "cell_type": "code",
      "metadata": {
        "colab": {
          "base_uri": "https://localhost:8080/"
        },
        "id": "Ck96PbeNwj3c",
        "outputId": "0b1426d0-c029-41c3-8908-6ac8205fb4a8"
      },
      "source": [
        "for version in keep_versions:\n",
        "    version_df = data[data['Affected versions'].apply(lambda x: version in x)]\n",
        "    print('Version', version)\n",
        "\n",
        "    calculate_top_10_tfidf(version_df, CountVectorizer())"
      ],
      "execution_count": 82,
      "outputs": [
        {
          "output_type": "stream",
          "name": "stdout",
          "text": [
            "Version 2020.2\n",
            "Самые популярные слова по TFIDF:\n",
            " ['flask', 'method', 'to', 'size', 'type', 'files', 'property', 'line', 'the', 'venv']\n",
            "Version 2020.3\n",
            "Самые популярные слова по TFIDF:\n",
            " ['global', 'in', 'editor', 'template', 'coverage', 'plot', 'else', 'of', 'import', 'it']\n",
            "Version 2021.1\n",
            "Самые популярные слова по TFIDF:\n",
            " ['fastapi', 'usages', 'module', 'is', 'self', 'the', 'of', 'coverage', 'in', 'list']\n",
            "Version 2021.2\n",
            "Самые популярные слова по TFIDF:\n",
            " ['packages', 'from', 'services', 'interpreter', 'type', 'generic', 'to', 'the', 'plugin', 'str']\n",
            "Version 2021.3\n",
            "Самые популярные слова по TFIDF:\n",
            " ['type', 'compose', 'no', 'ssh', 'icons', 'as', 'set', 'self', 'run', 'str']\n"
          ]
        }
      ]
    },
    {
      "cell_type": "markdown",
      "metadata": {
        "id": "qbb77B095nhp"
      },
      "source": [
        "Видим, что все поменялось, но здесь остались более частые слова, типа no as run и тд. Что плохо, т.к. это не дает нам какой-то информации о том, что было сломано"
      ]
    },
    {
      "cell_type": "markdown",
      "metadata": {
        "id": "UBaiL-0k6Gzi"
      },
      "source": [
        "Видим, что TFIDF рабоатет получше. Посмотрим теперь еще по двум словам"
      ]
    },
    {
      "cell_type": "code",
      "metadata": {
        "colab": {
          "base_uri": "https://localhost:8080/"
        },
        "id": "euOnEVz-2Tzo",
        "outputId": "20ecf52d-ea89-49c0-9422-315d18463887"
      },
      "source": [
        "for version in keep_versions:\n",
        "    version_df = data[data['Affected versions'].apply(lambda x: version in x)]\n",
        "    print('Version', version)\n",
        "\n",
        "    calculate_top_10_tfidf(version_df, TfidfVectorizer(ngram_range=(2, 2)))"
      ],
      "execution_count": 83,
      "outputs": [
        {
          "output_type": "stream",
          "name": "stdout",
          "text": [
            "Version 2020.2\n",
            "Самые популярные слова по TFIDF:\n",
            " ['improve documentation', 'import pandas', 'documentation readability', 'unused import', 'alias decorator', 'stackoverflowerror in', 'work ctrl', 'broken find', 'debug not', 'hi hello']\n",
            "Version 2020.3\n",
            "Самые популярные слова по TFIDF:\n",
            " ['stub error', 'pytest_cache directory', 'ignore pytest_cache', 'and property', 'never completes', 'classmethod and', 'for loop', 'psycopg2 stub', 'false unresolved', 'super autocompletion']\n",
            "Version 2021.1\n",
            "Самые популярные слова по TFIDF:\n",
            " ['ide performance', 'classmethod and', 'generic aliases', 'hangs randomly', 'wrong import', 'poor ide', 'update bundled', 'incorrect type', 'pdm support', 'help function']\n",
            "Version 2021.2\n",
            "Самые популярные слова по TFIDF:\n",
            " ['support polars', '__class_getitem__ incorrectly', 'interpreter pid', 'test autodetect', 'incorrectly typechecks', 'slow code', 'type inferrence', 'builtins module', 'inspection bug', 'typing lag']\n",
            "Version 2021.3\n",
            "Самые популярные слова по TFIDF:\n",
            " ['pydevd_use_cython yes', 'not applied', 'yes is', 'deprecationwarning currentthread', 'is deprecated', 'currentthread is', 'cell output', 'str str', 'ipywidgets selector', 'selector broken']\n"
          ]
        }
      ]
    },
    {
      "cell_type": "markdown",
      "metadata": {
        "id": "IQVy8Yku6ax3"
      },
      "source": [
        "Видим, что в 2020.2 проблемы с документацией. А в 2020.3 что-то ломается с pytest_cache"
      ]
    },
    {
      "cell_type": "markdown",
      "metadata": {
        "id": "Eur13A7v6wGL"
      },
      "source": [
        "# Решение через BigArtm"
      ]
    },
    {
      "cell_type": "code",
      "metadata": {
        "id": "GTBhgLf18rzv"
      },
      "source": [
        "!gunzip docword.kos.txt.gz"
      ],
      "execution_count": 84,
      "outputs": []
    },
    {
      "cell_type": "code",
      "metadata": {
        "id": "4iF80KFX6baw",
        "colab": {
          "base_uri": "https://localhost:8080/"
        },
        "outputId": "d5acb0e5-c335-4e18-fe84-136727bd73b3"
      },
      "source": [
        "!pip install bigartm10"
      ],
      "execution_count": 85,
      "outputs": [
        {
          "output_type": "stream",
          "name": "stdout",
          "text": [
            "Requirement already satisfied: bigartm10 in /usr/local/lib/python3.7/dist-packages (0.10.1)\n",
            "Requirement already satisfied: tqdm in /usr/local/lib/python3.7/dist-packages (from bigartm10) (4.62.3)\n",
            "Requirement already satisfied: pandas in /usr/local/lib/python3.7/dist-packages (from bigartm10) (1.1.5)\n",
            "Requirement already satisfied: packaging in /usr/local/lib/python3.7/dist-packages (from bigartm10) (21.3)\n",
            "Requirement already satisfied: protobuf>=3.0 in /usr/local/lib/python3.7/dist-packages (from bigartm10) (3.17.3)\n",
            "Requirement already satisfied: numpy in /usr/local/lib/python3.7/dist-packages (from bigartm10) (1.19.5)\n",
            "Requirement already satisfied: six>=1.9 in /usr/local/lib/python3.7/dist-packages (from protobuf>=3.0->bigartm10) (1.15.0)\n",
            "Requirement already satisfied: pyparsing!=3.0.5,>=2.0.2 in /usr/local/lib/python3.7/dist-packages (from packaging->bigartm10) (3.0.6)\n",
            "Requirement already satisfied: python-dateutil>=2.7.3 in /usr/local/lib/python3.7/dist-packages (from pandas->bigartm10) (2.8.2)\n",
            "Requirement already satisfied: pytz>=2017.2 in /usr/local/lib/python3.7/dist-packages (from pandas->bigartm10) (2018.9)\n"
          ]
        }
      ]
    },
    {
      "cell_type": "code",
      "metadata": {
        "colab": {
          "base_uri": "https://localhost:8080/"
        },
        "id": "204gL1up6bX4",
        "outputId": "63556e45-5306-444f-a34c-d476ef892900"
      },
      "source": [
        "from sklearn.feature_extraction.text import CountVectorizer\n",
        "from sklearn.datasets import fetch_20newsgroups\n",
        "from numpy import array\n",
        "import artm\n",
        "\n",
        "cv = TfidfVectorizer(stop_words='english')\n",
        "n_wd = array(cv.fit_transform(data['summary']).todense()).T\n",
        "vocabulary = cv.get_feature_names()\n",
        "\n",
        "bv = artm.BatchVectorizer(data_format='bow_n_wd',\n",
        "                          n_wd=n_wd,\n",
        "                          vocabulary=vocabulary)\n",
        "\n",
        "model = artm.LDA(num_topics=15, dictionary=bv.dictionary)\n",
        "model.fit_offline(bv, num_collection_passes=20)\n",
        "\n",
        "# Print results\n",
        "model.get_top_tokens()"
      ],
      "execution_count": 86,
      "outputs": [
        {
          "output_type": "stream",
          "name": "stderr",
          "text": [
            "Exception ignored in: <function BatchVectorizer.__del__ at 0x7f52103d3d40>\n",
            "Traceback (most recent call last):\n",
            "  File \"/usr/local/lib/python3.7/dist-packages/artm/batches_utils.py\", line 137, in __del__\n",
            "  File \"/usr/local/lib/python3.7/dist-packages/artm/batches_utils.py\", line 130, in __dispose\n",
            "  File \"/usr/lib/python3.7/shutil.py\", line 485, in rmtree\n",
            "  File \"/usr/lib/python3.7/shutil.py\", line 483, in rmtree\n",
            "FileNotFoundError: [Errno 2] No such file or directory: 'urnuuid5566fcc8-5784-11ec-b0d7-0242ac1c0002'\n"
          ]
        },
        {
          "output_type": "execute_result",
          "data": {
            "text/plain": [
              "[['docker',\n",
              "  'file',\n",
              "  'jupyter',\n",
              "  'window',\n",
              "  'compose',\n",
              "  'unable',\n",
              "  'packages',\n",
              "  'interpreter',\n",
              "  'notebook',\n",
              "  'use'],\n",
              " ['debugger',\n",
              "  'new',\n",
              "  'windows',\n",
              "  'process',\n",
              "  'failed',\n",
              "  'pycharm',\n",
              "  'hangs',\n",
              "  'object',\n",
              "  'multiple',\n",
              "  'attach'],\n",
              " ['code',\n",
              "  'completion',\n",
              "  'debug',\n",
              "  'running',\n",
              "  'tests',\n",
              "  'mode',\n",
              "  'modules',\n",
              "  'imported',\n",
              "  'script',\n",
              "  'names'],\n",
              " ['working',\n",
              "  'parameter',\n",
              "  'path',\n",
              "  'functions',\n",
              "  'installed',\n",
              "  'work',\n",
              "  'execution',\n",
              "  'package',\n",
              "  'action',\n",
              "  'ctrl'],\n",
              " ['type',\n",
              "  'incorrect',\n",
              "  'warning',\n",
              "  'instead',\n",
              "  'inference',\n",
              "  'generic',\n",
              "  'expected',\n",
              "  'dict',\n",
              "  'annotations',\n",
              "  'checker'],\n",
              " ['wrong',\n",
              "  'auto',\n",
              "  'method',\n",
              "  'test',\n",
              "  'missing',\n",
              "  'imports',\n",
              "  'parameters',\n",
              "  'different',\n",
              "  'local',\n",
              "  'autocomplete'],\n",
              " ['fails',\n",
              "  'remote',\n",
              "  'version',\n",
              "  'properly',\n",
              "  'ssh',\n",
              "  'interpreter',\n",
              "  'allow',\n",
              "  'stuck',\n",
              "  'available',\n",
              "  'typevar'],\n",
              " ['view',\n",
              "  'cell',\n",
              "  'debugging',\n",
              "  'dataframe',\n",
              "  'exception',\n",
              "  'sciview',\n",
              "  'jupyter',\n",
              "  'shown',\n",
              "  'plots',\n",
              "  'displayed'],\n",
              " ['error',\n",
              "  'import',\n",
              "  'typing',\n",
              "  'module',\n",
              "  'types',\n",
              "  'variable',\n",
              "  'django',\n",
              "  'syntax',\n",
              "  'union',\n",
              "  'pycharm'],\n",
              " ['project',\n",
              "  'run',\n",
              "  'interpreter',\n",
              "  'wsl',\n",
              "  'string',\n",
              "  'py',\n",
              "  'configuration',\n",
              "  'based',\n",
              "  'created',\n",
              "  'venv'],\n",
              " ['pycharm',\n",
              "  'support',\n",
              "  '2021',\n",
              "  'value',\n",
              "  'default',\n",
              "  'projects',\n",
              "  'inferred',\n",
              "  'decorator',\n",
              "  'return',\n",
              "  'longer'],\n",
              " ['2020',\n",
              "  'variables',\n",
              "  'directory',\n",
              "  'expression',\n",
              "  'suggest',\n",
              "  'configured',\n",
              "  'folder',\n",
              "  'pycharm',\n",
              "  'match',\n",
              "  'rename'],\n",
              " ['does',\n",
              "  'inspection',\n",
              "  'class',\n",
              "  'reference',\n",
              "  'unresolved',\n",
              "  'attribute',\n",
              "  'update',\n",
              "  'usages',\n",
              "  'pycharm',\n",
              "  'template'],\n",
              " ['false',\n",
              "  'positive',\n",
              "  'list',\n",
              "  'argument',\n",
              "  'usage',\n",
              "  'statement',\n",
              "  'requirements',\n",
              "  'negative',\n",
              "  'bug',\n",
              "  'shows'],\n",
              " ['python',\n",
              "  'console',\n",
              "  'doesn',\n",
              "  'documentation',\n",
              "  'work',\n",
              "  '10',\n",
              "  'output',\n",
              "  'ide',\n",
              "  'quick',\n",
              "  'conda']]"
            ]
          },
          "metadata": {},
          "execution_count": 86
        }
      ]
    },
    {
      "cell_type": "markdown",
      "metadata": {
        "id": "0LHcEHe99qPv"
      },
      "source": [
        "Посмотрим что-то для версий"
      ]
    },
    {
      "cell_type": "code",
      "metadata": {
        "colab": {
          "base_uri": "https://localhost:8080/"
        },
        "id": "0OQuCsv86bVR",
        "outputId": "4aeb2d74-c822-4e45-e2f0-e33e2887ebfa"
      },
      "source": [
        "cv = TfidfVectorizer(stop_words='english')\n",
        "version_df = data[data['Affected versions'].apply(lambda x: '2020.2' in x)]\n",
        "\n",
        "n_wd = array(cv.fit_transform(version_df['summary']).todense()).T\n",
        "vocabulary = cv.get_feature_names()\n",
        "\n",
        "bv = artm.BatchVectorizer(data_format='bow_n_wd',\n",
        "                          n_wd=n_wd,\n",
        "                          vocabulary=vocabulary)\n",
        "\n",
        "model = artm.LDA(num_topics=30, dictionary=bv.dictionary)\n",
        "model.fit_offline(bv, num_collection_passes=10)\n",
        "\n",
        "# Print results\n",
        "model.get_top_tokens(5)"
      ],
      "execution_count": 93,
      "outputs": [
        {
          "output_type": "execute_result",
          "data": {
            "text/plain": [
              "[['does', 'docker', 'compose', 'work', 'property'],\n",
              " ['updates', 'multiple', 'shortcut', 'pycharm', 'numpy'],\n",
              " ['code', 'running', 'completion', 'tests', 'pytest'],\n",
              " ['results', 'search', 'path', 'notebook', 'display'],\n",
              " ['type', 'generic', 'expected', 'instead', 'got'],\n",
              " ['type', 'wrong', 'hinting', 'correct', 'isn'],\n",
              " ['interpreter', 'remote', 'issues', 'preview', 'environment'],\n",
              " ['cell', 'argument', 'unexpected', 'value', 'inspection'],\n",
              " ['django', 'typing', 'settings', 'types', 'error'],\n",
              " ['interpreter', 'based', 'test', 'generator', 'docker'],\n",
              " ['pycharm', 'install', 'packages', 'usages', 'correctly'],\n",
              " ['2020', 'pycharm', 'object', 'flask', 'callable'],\n",
              " ['doesn', 'work', '2020', 'does', 'django'],\n",
              " ['pip', 'hangs', 'attributes', 'feature', 'txt'],\n",
              " ['console', 'python', 'terminal', 'documentation', 'issue'],\n",
              " ['update', 'notebook', 'jupyter', 'dict', 'action'],\n",
              " ['debugger', 'failed', 'process', 'python', 'step'],\n",
              " ['project', 'diagram', 'dependency', 'variable', 'model'],\n",
              " ['file', 'default', 'drop', 'tabs', 'gutter'],\n",
              " ['string', 'function', 'comment', 'subclassing', 'format'],\n",
              " ['fails', 'import', 'tests', 'drop', 'files'],\n",
              " ['breaks', 'imports', 'autocompletion', 'view', 'list'],\n",
              " ['false', 'positive', 'type', 'inspection', 'negative'],\n",
              " ['include', 'pycharm', 'files', 'support', 'does'],\n",
              " ['jupyter', 'stuck', 'server', 'connect', 'notebook'],\n",
              " ['docstring', 'documentation', 'custom', 'import', 'link'],\n",
              " ['new', 'creation', 'program', '__init__', 'project'],\n",
              " ['warning', 'project', 'auto', '20', 'imports'],\n",
              " ['run', 'debugging', 'configuration', 'error', 'checker'],\n",
              " ['working', 'debug', 'run', 'code', 'suggest']]"
            ]
          },
          "metadata": {},
          "execution_count": 93
        }
      ]
    },
    {
      "cell_type": "markdown",
      "source": [
        "Теперь для версии 2021.3"
      ],
      "metadata": {
        "id": "fQwO0utBnHaZ"
      }
    },
    {
      "cell_type": "code",
      "metadata": {
        "id": "KxAtrvn_6bCy",
        "colab": {
          "base_uri": "https://localhost:8080/"
        },
        "outputId": "6f50711b-5c8f-4d1c-9a1b-565ffd424ef5"
      },
      "source": [
        "cv = TfidfVectorizer(stop_words='english')\n",
        "version_df = data[data['Affected versions'].apply(lambda x: '2020.3' in x)]\n",
        "\n",
        "n_wd = array(cv.fit_transform(version_df['summary']).todense()).T\n",
        "vocabulary = cv.get_feature_names()\n",
        "\n",
        "bv = artm.BatchVectorizer(data_format='bow_n_wd',\n",
        "                          n_wd=n_wd,\n",
        "                          vocabulary=vocabulary)\n",
        "\n",
        "model = artm.LDA(num_topics=30, dictionary=bv.dictionary)\n",
        "model.fit_offline(bv, num_collection_passes=10)\n",
        "\n",
        "# Print results\n",
        "model.get_top_tokens(5)"
      ],
      "execution_count": 91,
      "outputs": [
        {
          "output_type": "execute_result",
          "data": {
            "text/plain": [
              "[['rendering', 'better', 'typing', 'cfg', 'setup'],\n",
              " ['new', 'column', 'drive', 'output', 'data'],\n",
              " ['completion', 'project', 'view', 'debug', 'code'],\n",
              " ['interpreter', 'remote', 'docker', 'path', 'package'],\n",
              " ['wsl', 'debugger', 'interpreter', 'based', 'wsl2'],\n",
              " ['type', 'wrong', 'inferred', 'does', 'method'],\n",
              " ['interpreter', 'configuration', 'existing', 'background', 'diff'],\n",
              " ['dataframe', 'column', 'sciview', 'project', 'coverage'],\n",
              " ['classes', 'unexpected', 'completion', 'django', 'style'],\n",
              " ['numpy', 'block', '20', 'freezes', 'opening'],\n",
              " ['super', 'project', 'new', 'breaks', 'pycharm'],\n",
              " ['file', 'directory', 'suggest', 'add', 'import'],\n",
              " ['reference', 'unresolved', 'jupyter', 'notebooks', 'pycharm'],\n",
              " ['reset', 'connection', 'request', 'new', 'pycharm'],\n",
              " ['files', 'satisfied', 'python', 'output', 'plugin'],\n",
              " ['build', 'working', 'django', 'message', 'highlighting'],\n",
              " ['python', 'running', 'windows', 'pycharm', 'debugger'],\n",
              " ['string', 'crashes', 'mode', 'wrongly', 'pycharm'],\n",
              " ['parameter', 'attribute', 'issues', 'does', 'namedtuple'],\n",
              " ['work', 'doesn', 'requirements', 'class', 'documentation'],\n",
              " ['2020', 'suggests', 'pycharm', 'auto', 'completion'],\n",
              " ['false', 'positive', 'annotations', 'type', 'using'],\n",
              " ['completion', 'stubs', 'tests', 'fix', 'missing'],\n",
              " ['doesn', '2020', 'pycharm', 'mode', 'packages'],\n",
              " ['module', 'fails', 'variables', 'window', 'debug'],\n",
              " ['console', 'tabs', 'markers', 'moving', 'removes'],\n",
              " ['assignment', 'coroutine', 'awaited', 'highlight', 'broken'],\n",
              " ['import', 'function', 'module', 'list', 'parameter'],\n",
              " ['code', 'django', 'tests', 'resets', 'debug'],\n",
              " ['allow', 'namespace', 'non', 'declaration', 'init']]"
            ]
          },
          "metadata": {},
          "execution_count": 91
        }
      ]
    },
    {
      "cell_type": "code",
      "metadata": {
        "id": "eBz2G5gM2TxD"
      },
      "source": [
        ""
      ],
      "execution_count": null,
      "outputs": []
    }
  ]
}